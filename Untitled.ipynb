{
 "cells": [
  {
   "cell_type": "code",
   "execution_count": null,
   "id": "a9668da2-e467-463c-accd-06b78c2a95f5",
   "metadata": {},
   "outputs": [
    {
     "data": {
      "text/html": [
       "<p>To authorize access needed by Earth Engine, open the following\n",
       "        URL in a web browser and follow the instructions:</p>\n",
       "        <p><a href=https://code.earthengine.google.com/client-auth?scopes=https%3A//www.googleapis.com/auth/earthengine%20https%3A//www.googleapis.com/auth/devstorage.full_control&request_id=PQwfYfwgF8sSG9dr41Y7Y9nV8FVGBhpJ1UJV-qSJec4&tc=P9an-4iGD1WH-V_Z7ORvzhQXFit2KDXtRiuGK4QK3Vs&cc=BVFP4UfPNd_ag5rZK0QT6dhx5iLK_VXjU-JjZvMg8fA>https://code.earthengine.google.com/client-auth?scopes=https%3A//www.googleapis.com/auth/earthengine%20https%3A//www.googleapis.com/auth/devstorage.full_control&request_id=PQwfYfwgF8sSG9dr41Y7Y9nV8FVGBhpJ1UJV-qSJec4&tc=P9an-4iGD1WH-V_Z7ORvzhQXFit2KDXtRiuGK4QK3Vs&cc=BVFP4UfPNd_ag5rZK0QT6dhx5iLK_VXjU-JjZvMg8fA</a></p>\n",
       "        <p>The authorization workflow will generate a code, which you should paste in the box below.</p>\n",
       "        "
      ],
      "text/plain": [
       "<IPython.core.display.HTML object>"
      ]
     },
     "metadata": {},
     "output_type": "display_data"
    }
   ],
   "source": [
    "import ee\n",
    "import geemap\n",
    "import ipywidgets as widgets\n",
    "\n",
    "# Autenticación e inicialización\n",
    "ee.Authenticate()\n",
    "ee.Initialize()\n",
    "\n",
    "# Crear un mapa interactivo\n",
    "Map = geemap.Map()\n",
    "Map\n",
    "\n",
    "# Cargar una imagen Landsat\n",
    "image = ee.Image('LANDSAT/LC08/C01/T1_TOA/LC08_044034_20140318')\n",
    "\n",
    "# Agregar la imagen al mapa\n",
    "Map.addLayer(image, {'bands': ['B4', 'B3', 'B2'], 'max': 0.3}, 'Landsat 8')\n",
    "\n",
    "# Mostrar el mapa\n",
    "Map\n"
   ]
  },
  {
   "cell_type": "code",
   "execution_count": null,
   "id": "49053d75-bf5f-47c6-9ac6-d01f9265fd0e",
   "metadata": {},
   "outputs": [],
   "source": []
  }
 ],
 "metadata": {
  "kernelspec": {
   "display_name": "Python 3 (ipykernel)",
   "language": "python",
   "name": "python3"
  },
  "language_info": {
   "codemirror_mode": {
    "name": "ipython",
    "version": 3
   },
   "file_extension": ".py",
   "mimetype": "text/x-python",
   "name": "python",
   "nbconvert_exporter": "python",
   "pygments_lexer": "ipython3",
   "version": "3.9.9"
  }
 },
 "nbformat": 4,
 "nbformat_minor": 5
}
